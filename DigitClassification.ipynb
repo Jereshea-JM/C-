{
  "nbformat": 4,
  "nbformat_minor": 0,
  "metadata": {
    "colab": {
      "provenance": [],
      "authorship_tag": "ABX9TyNGYPvKEbOW078cH5rHUN8t",
      "include_colab_link": true
    },
    "kernelspec": {
      "name": "python3",
      "display_name": "Python 3"
    },
    "language_info": {
      "name": "python"
    }
  },
  "cells": [
    {
      "cell_type": "markdown",
      "metadata": {
        "id": "view-in-github",
        "colab_type": "text"
      },
      "source": [
        "<a href=\"https://colab.research.google.com/github/Jereshea-JM/C-/blob/main/DigitClassification.ipynb\" target=\"_parent\"><img src=\"https://colab.research.google.com/assets/colab-badge.svg\" alt=\"Open In Colab\"/></a>"
      ]
    },
    {
      "cell_type": "code",
      "execution_count": null,
      "metadata": {
        "id": "heQvNAM-f9Fs"
      },
      "outputs": [],
      "source": [
        "import os\n",
        "import cv2 # to load images\n",
        "import tensorflow as tf\n",
        "from keras.layers import Dense, Dropout, Flatten, Conv2D, MaxPool2D, BatchNormalization\n",
        "from keras.optimizers import Adam\n",
        "from keras.utils import to_categorical \n",
        "from keras.preprocessing.image import ImageDataGenerator\n",
        "from keras.callbacks import LearningRateScheduler\n",
        "\n",
        "import numpy as np\n",
        "%matplotlib inline\n",
        "import matplotlib.pyplot as plt"
      ]
    },
    {
      "cell_type": "code",
      "source": [
        "mnist = tf.keras.datasets.mnist #dataset\n",
        "(x_train, y_train), (x_test, y_test) = mnist.load_data()"
      ],
      "metadata": {
        "id": "-1W4yIWggKEI"
      },
      "execution_count": null,
      "outputs": []
    },
    {
      "cell_type": "code",
      "source": [
        "x_train = tf.keras.utils.normalize(x_train, axis=1) #scaling btw 0 and 1\n",
        "x_test = tf.keras.utils.normalize(x_test, axis=1)"
      ],
      "metadata": {
        "id": "7ebAM1-rgOFo"
      },
      "execution_count": null,
      "outputs": []
    },
    {
      "cell_type": "code",
      "source": [
        "X_train = x_train.reshape(-1,28,28,1) #width=28, height=28, no.of.channels=1(grayscale img), dimension=-1(dynamically calculated)\n",
        "X_test = x_test.reshape(-1,28,28,1)\n",
        "Y_train_value = y_train \n",
        "Y_train = to_categorical(y_train, num_classes = 10) #final layer in training contains number ranging btw 0 to 9 hence assigning num_classes=10\n",
        "Y_test_value = y_test \n",
        "Y_test = to_categorical(y_test, num_classes = 10) #final layer in testing contains number ranging btw 0 to 9 hence assigning num_classes=10"
      ],
      "metadata": {
        "id": "VBXjROzBgRB5"
      },
      "execution_count": null,
      "outputs": []
    },
    {
      "cell_type": "code",
      "source": [
        "#ImageDataGenerator=> Data Augmentation\n",
        "from keras.callbacks import ReduceLROnPlateau\n",
        "datagen = ImageDataGenerator(\n",
        "        featurewise_center=False,\n",
        "        samplewise_center=False,\n",
        "        featurewise_std_normalization=False,\n",
        "        samplewise_std_normalization=False,\n",
        "        zca_whitening=False,\n",
        "        rotation_range=10,\n",
        "        zoom_range=0.1,\n",
        "        width_shift_range=0.1,\n",
        "        height_shift_range=0.1,\n",
        "        horizontal_flip=False,\n",
        "        vertical_flip=False)\n",
        "#to reduce the learning rate\n",
        "annealer = ReduceLROnPlateau(monitor='val_accuracy', patience=1, verbose=2, factor=0.5, min_lr=0.0000001) #patience=2"
      ],
      "metadata": {
        "id": "QpqK_nFdgTXh"
      },
      "execution_count": null,
      "outputs": []
    },
    {
      "cell_type": "code",
      "source": [
        "# Callback for stop training after threshold accuracy\n",
        "ACCURACY_THRESHOLD = 0.99\n",
        "class CustomCallback(tf.keras.callbacks.Callback):\n",
        "    def on_epoch_end(self, epoch, logs={}):\n",
        "        if(logs.get('accuracy') > ACCURACY_THRESHOLD):\n",
        "            print(\"\\nReached %2.2f%% accuracy, stopping training!\"%(ACCURACY_THRESHOLD*100))\n",
        "            self.model.stop_training = True\n",
        "            \n",
        "callbacks = CustomCallback()\n",
        "\n",
        "es = tf.keras.callbacks.EarlyStopping(monitor='val_loss', mode='min', verbose=1)\n",
        "\n",
        "# Set a learning rate\n",
        "annealer = LearningRateScheduler(lambda x: 1e-3 * 0.9 ** x)"
      ],
      "metadata": {
        "id": "e3gLrHpsgVkw"
      },
      "execution_count": null,
      "outputs": []
    },
    {
      "cell_type": "code",
      "source": [
        "model = tf.keras.models.Sequential()\n",
        "model.add(Conv2D(filters=32, kernel_size=(5, 5), padding='Valid', activation='relu', input_shape=(28, 28, 1)))\n",
        "model.add(Conv2D(filters=32, kernel_size=(3, 3), padding='Same', activation='relu'))\n",
        "model.add(MaxPool2D(pool_size=(2, 2)))\n",
        "model.add(Dropout(0.2))\n",
        "\n",
        "model.add(Conv2D(filters=64, kernel_size=(5, 5), padding='Valid', activation='relu'))\n",
        "model.add(Conv2D(filters=64, kernel_size=(3, 3), padding='Same', activation='relu'))\n",
        "model.add(MaxPool2D(pool_size=(2, 2), strides=(2, 2)))\n",
        "model.add(Dropout(0.2))\n",
        "\n",
        "model.add(Flatten())\n",
        "model.add(Dense(519, activation=\"relu\")) \n",
        "model.add(Dropout(0.5))\n",
        "model.add(Dense(10, activation=\"softmax\"))\n"
      ],
      "metadata": {
        "id": "VYCwyaEmgXqX"
      },
      "execution_count": null,
      "outputs": []
    },
    {
      "cell_type": "code",
      "source": [
        "optimizer = Adam(lr=1e-4)\n",
        "model.compile(loss='categorical_crossentropy', optimizer=Adam(lr=1e-3), metrics=[\"accuracy\"])"
      ],
      "metadata": {
        "colab": {
          "base_uri": "https://localhost:8080/"
        },
        "id": "YolLZEX1gaUn",
        "outputId": "7d7ea8b3-ef43-41f2-cb77-b8bd9274311e"
      },
      "execution_count": null,
      "outputs": [
        {
          "output_type": "stream",
          "name": "stderr",
          "text": [
            "/usr/local/lib/python3.8/dist-packages/keras/optimizers/optimizer_v2/adam.py:110: UserWarning: The `lr` argument is deprecated, use `learning_rate` instead.\n",
            "  super(Adam, self).__init__(name, **kwargs)\n"
          ]
        }
      ]
    },
    {
      "cell_type": "code",
      "source": [
        "epochs = 10\n",
        "batch_size = 64"
      ],
      "metadata": {
        "id": "Vi9k0mL3gcKk"
      },
      "execution_count": null,
      "outputs": []
    },
    {
      "cell_type": "code",
      "source": [
        "history = model.fit_generator(datagen.flow(X_train,Y_train, batch_size=batch_size),\n",
        "                              epochs = epochs, validation_data = (X_test,Y_test),\n",
        "                              verbose = 1, steps_per_epoch=X_train.shape[0] // batch_size,\n",
        "                              callbacks=[annealer])"
      ],
      "metadata": {
        "colab": {
          "base_uri": "https://localhost:8080/"
        },
        "id": "-wh8Lsx4gd3y",
        "outputId": "b771a12f-0701-4e60-f25e-1079ca5e155b"
      },
      "execution_count": null,
      "outputs": [
        {
          "output_type": "stream",
          "name": "stdout",
          "text": [
            "Epoch 1/10\n"
          ]
        },
        {
          "output_type": "stream",
          "name": "stderr",
          "text": [
            "<ipython-input-43-777f911bc7a9>:1: UserWarning: `Model.fit_generator` is deprecated and will be removed in a future version. Please use `Model.fit`, which supports generators.\n",
            "  history = model.fit_generator(datagen.flow(X_train,Y_train, batch_size=batch_size),\n"
          ]
        },
        {
          "output_type": "stream",
          "name": "stdout",
          "text": [
            "937/937 [==============================] - 218s 232ms/step - loss: 0.3326 - accuracy: 0.8918 - val_loss: 0.0381 - val_accuracy: 0.9874 - lr: 0.0010\n",
            "Epoch 2/10\n",
            "937/937 [==============================] - 203s 216ms/step - loss: 0.0983 - accuracy: 0.9699 - val_loss: 0.0326 - val_accuracy: 0.9896 - lr: 9.0000e-04\n",
            "Epoch 3/10\n",
            "937/937 [==============================] - 198s 212ms/step - loss: 0.0717 - accuracy: 0.9791 - val_loss: 0.0250 - val_accuracy: 0.9927 - lr: 8.1000e-04\n",
            "Epoch 4/10\n",
            "937/937 [==============================] - 201s 214ms/step - loss: 0.0559 - accuracy: 0.9826 - val_loss: 0.0199 - val_accuracy: 0.9934 - lr: 7.2900e-04\n",
            "Epoch 5/10\n",
            "937/937 [==============================] - 199s 212ms/step - loss: 0.0520 - accuracy: 0.9845 - val_loss: 0.0178 - val_accuracy: 0.9940 - lr: 6.5610e-04\n",
            "Epoch 6/10\n",
            "937/937 [==============================] - 202s 215ms/step - loss: 0.0455 - accuracy: 0.9867 - val_loss: 0.0173 - val_accuracy: 0.9944 - lr: 5.9049e-04\n",
            "Epoch 7/10\n",
            "937/937 [==============================] - 199s 212ms/step - loss: 0.0395 - accuracy: 0.9885 - val_loss: 0.0153 - val_accuracy: 0.9948 - lr: 5.3144e-04\n",
            "Epoch 8/10\n",
            "937/937 [==============================] - 200s 213ms/step - loss: 0.0362 - accuracy: 0.9888 - val_loss: 0.0161 - val_accuracy: 0.9944 - lr: 4.7830e-04\n",
            "Epoch 9/10\n",
            "937/937 [==============================] - 198s 211ms/step - loss: 0.0331 - accuracy: 0.9899 - val_loss: 0.0150 - val_accuracy: 0.9956 - lr: 4.3047e-04\n",
            "Epoch 10/10\n",
            "937/937 [==============================] - 198s 211ms/step - loss: 0.0301 - accuracy: 0.9907 - val_loss: 0.0146 - val_accuracy: 0.9953 - lr: 3.8742e-04\n"
          ]
        }
      ]
    },
    {
      "cell_type": "code",
      "source": [
        "# Save the model\n",
        "model.save('digit_classification.model')"
      ],
      "metadata": {
        "colab": {
          "base_uri": "https://localhost:8080/"
        },
        "id": "Tl0e1EkQrqZh",
        "outputId": "fc7b9b23-bddf-4c7f-db98-90a47581511d"
      },
      "execution_count": null,
      "outputs": [
        {
          "output_type": "stream",
          "name": "stderr",
          "text": [
            "WARNING:absl:Found untraced functions such as _jit_compiled_convolution_op, _jit_compiled_convolution_op, _jit_compiled_convolution_op, _jit_compiled_convolution_op while saving (showing 4 of 4). These functions will not be directly callable after loading.\n"
          ]
        }
      ]
    },
    {
      "cell_type": "code",
      "source": [
        "new_model = tf.keras.models.load_model('digit_classification.model')"
      ],
      "metadata": {
        "id": "NoQSrAmyrtVm"
      },
      "execution_count": null,
      "outputs": []
    },
    {
      "cell_type": "code",
      "source": [
        "image_number=1\n",
        "print(\"try\")\n",
        "i=1\n",
        "while os.path.isfile(f\"/content/classify_digit_conv.model/Digits/digit{image_number}.png\"):\n",
        "  try:\n",
        "    img=cv2.imread(f\"/content/classify_digit_conv.model/Digits/digit{image_number}.png\")[:,:,0]\n",
        "    img=np.invert(np.array([img]))\n",
        "    prediction=model.predict(img)\n",
        "    print(f\"The predicted digit is {np.argmax(prediction)}\") # np.argmax=>gives the index of the number which has the highest number\n",
        "    plt.imshow(img[0],cmap=plt.cm.binary)\n",
        "    plt.show()\n",
        "  except:\n",
        "    print(\"Error!\")\n",
        "  finally:\n",
        "    image_number+=1"
      ],
      "metadata": {
        "colab": {
          "base_uri": "https://localhost:8080/",
          "height": 1000
        },
        "id": "0e_eH0tKr60b",
        "outputId": "1c1d37db-002f-4b18-b1e8-d2ddd0fa5311"
      },
      "execution_count": null,
      "outputs": [
        {
          "output_type": "stream",
          "name": "stdout",
          "text": [
            "try\n",
            "1/1 [==============================] - 0s 95ms/step\n",
            "The predicted digit is 1\n"
          ]
        },
        {
          "output_type": "display_data",
          "data": {
            "text/plain": [
              "<Figure size 432x288 with 1 Axes>"
            ],
            "image/png": "[encoded data removed]"
          },
          "metadata": {
            "needs_background": "light"
          }
        },
        {
          "output_type": "stream",
          "name": "stdout",
          "text": [
            "1/1 [==============================] - 0s 22ms/step\n",
            "The predicted digit is 3\n"
          ]
        },
        {
          "output_type": "display_data",
          "data": {
            "text/plain": [
              "<Figure size 432x288 with 1 Axes>"
            ],
            "image/png": "[encoded data removed]"
          },
          "metadata": {
            "needs_background": "light"
          }
        },
        {
          "output_type": "stream",
          "name": "stdout",
          "text": [
            "1/1 [==============================] - 0s 36ms/step\n",
            "The predicted digit is 4\n"
          ]
        },
        {
          "output_type": "display_data",
          "data": {
            "text/plain": [
              "<Figure size 432x288 with 1 Axes>"
            ],
            "image/png": "[encoded data removed]"
          },
          "metadata": {
            "needs_background": "light"
          }
        },
        {
          "output_type": "stream",
          "name": "stdout",
          "text": [
            "1/1 [==============================] - 0s 52ms/step\n",
            "The predicted digit is 3\n"
          ]
        },
        {
          "output_type": "display_data",
          "data": {
            "text/plain": [
              "<Figure size 432x288 with 1 Axes>"
            ],
            "image/png": "[encoded data removed]"
          },
          "metadata": {
            "needs_background": "light"
          }
        },
        {
          "output_type": "stream",
          "name": "stdout",
          "text": [
            "1/1 [==============================] - 0s 30ms/step\n",
            "The predicted digit is 5\n"
          ]
        },
        {
          "output_type": "display_data",
          "data": {
            "text/plain": [
              "<Figure size 432x288 with 1 Axes>"
            ],
            "image/png": "[encoded data removed]"
          },
          "metadata": {
            "needs_background": "light"
          }
        },
        {
          "output_type": "stream",
          "name": "stdout",
          "text": [
            "1/1 [==============================] - 0s 53ms/step\n",
            "The predicted digit is 2\n"
          ]
        },
        {
          "output_type": "display_data",
          "data": {
            "text/plain": [
              "<Figure size 432x288 with 1 Axes>"
            ],
            "image/png": "[encoded data removed]"
          },
          "metadata": {
            "needs_background": "light"
          }
        },
        {
          "output_type": "stream",
          "name": "stdout",
          "text": [
            "1/1 [==============================] - 0s 30ms/step\n",
            "The predicted digit is 5\n"
          ]
        },
        {
          "output_type": "display_data",
          "data": {
            "text/plain": [
              "<Figure size 432x288 with 1 Axes>"
            ],
            "image/png": "[encoded data removed]"
          },
          "metadata": {
            "needs_background": "light"
          }
        },
        {
          "output_type": "stream",
          "name": "stdout",
          "text": [
            "1/1 [==============================] - 0s 31ms/step\n",
            "The predicted digit is 8\n"
          ]
        },
        {
          "output_type": "display_data",
          "data": {
            "text/plain": [
              "<Figure size 432x288 with 1 Axes>"
            ],
            "image/png": "[encoded data removed]"
          },
          "metadata": {
            "needs_background": "light"
          }
        },
        {
          "output_type": "stream",
          "name": "stdout",
          "text": [
            "1/1 [==============================] - 0s 79ms/step\n",
            "The predicted digit is 9\n"
          ]
        },
        {
          "output_type": "display_data",
          "data": {
            "text/plain": [
              "<Figure size 432x288 with 1 Axes>"
            ],
            "image/png": "[encoded data removed]"
          },
          "metadata": {
            "needs_background": "light"
          }
        }
      ]
    }
  ]
}